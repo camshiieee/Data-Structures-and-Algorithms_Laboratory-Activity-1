{
 "cells": [
  {
   "cell_type": "markdown",
   "metadata": {},
   "source": [
    "Name: Camille Shainne B. Belda               \n",
    "Course/Year/Section: BSCpE 2-3"
   ]
  },
  {
   "cell_type": "markdown",
   "metadata": {},
   "source": [
    "Exercise 1: Temperature Converter\n",
    "     Create a program that converts temperatures between Celsius and Fahrenheit.\n",
    "\n",
    "Instructions:\n",
    "1.\tAsk the user to input a temperature.\n",
    "2.\tAsk the user to select the conversion type: from Celsius to Fahrenheit or from Fahrenheit to Celsius.\n",
    "3.\tPerform the appropriate conversion and print the result."
   ]
  },
  {
   "cell_type": "code",
   "execution_count": null,
   "metadata": {},
   "outputs": [],
   "source": [
    "temperature = float(input(\"Enter the temperature: \"))\n",
    "\n",
    "conversion = str(input(\"\\nWhat conversion do you want? \\n\" +\n",
    "                       \"a. From Celsius to Fahrenheit\\n\" +\n",
    "                       \"b. From Fahrenheit to Celsius\\n\" +\n",
    "                       \"\\nYour choice: \"))\n",
    "\n",
    "if conversion == \"a\":\n",
    "    fahrenheit = (temperature * 9/5) + 32\n",
    "    print(f\"\\nThe conversion of {temperature} °C is\", format(fahrenheit, '.2f'), \"°F.\")\n",
    "elif conversion == \"b\":\n",
    "    celsius = (temperature - 32) * 5/9\n",
    "    print(f\"\\nThe conversion of {temperature} °F is\", format(celsius, '.2f'), \"C.\")\n",
    "else:\n",
    "    print(\"\\nInvalid option!\")"
   ]
  },
  {
   "cell_type": "markdown",
   "metadata": {},
   "source": [
    "Exercise 2: Ohm's Law Calculator\n",
    "\n",
    "Instructions:\n",
    "1.\tAsk the user what they want to calculate: Voltage, Current, or Resistance.\n",
    "2.\tBased on their choice, prompt the user to input the appropriate values.\n",
    "3.\tUse Ohm's Law to calculate the missing variable and display the result.\n",
    "4.\tHandle cases where division by zero might occur."
   ]
  },
  {
   "cell_type": "code",
   "execution_count": null,
   "metadata": {},
   "outputs": [],
   "source": [
    "option = str(input(\"What do you want to calculate?\\n\" +\n",
    "                   \"a. Voltage\\n\" +\n",
    "                   \"b. Current\\n\" +\n",
    "                   \"c. Resistance\\n\" +\n",
    "                   \"\\nYour choice: \"))\n",
    "\n",
    "if option == \"a\":\n",
    "    current = float(input(\"\\nEnter the value of the current: \"))\n",
    "    resistance = float(input(\"Enter the value of the resistance: \"))\n",
    "    voltage = current * resistance\n",
    "    print(\"\\nThe voltage is\", format(voltage, '.2f'), \"V.\")\n",
    "elif option == \"b\":\n",
    "    voltage = float(input(\"\\nEnter the value of the voltage: \"))\n",
    "    resistance = float(input(\"Enter the value of the resistance: \"))\n",
    "    try:\n",
    "        current = voltage / resistance\n",
    "        print(\"\\nThe current is\", format(current, '.2f'), \"A.\")\n",
    "    except ZeroDivisionError:\n",
    "        print(\"\\nError: Resistance cannot be zero when calculating current.\")\n",
    "elif option == \"c\":\n",
    "    voltage = float(input(\"\\nEnter the value of the voltage: \"))\n",
    "    current = float(input(\"Enter the value of the current: \"))\n",
    "    try:\n",
    "        resistance = voltage / current\n",
    "        print(\"\\nThe resistance is\", format(resistance, '.2f'), \"Ω.\")\n",
    "    except ZeroDivisionError:\n",
    "        print(\"\\nError: Current cannot be zero when calculating resistance.\")\n",
    "else:\n",
    "    print(\"\\nInvalid option!\")"
   ]
  },
  {
   "cell_type": "markdown",
   "metadata": {},
   "source": [
    "Exercise 3:  Diamond Shape (advance topic)\n",
    " Write a Python function named print_diamond that takes an odd integer n as an argument and prints a diamond shape with a width of n using the * character.\n",
    "\n",
    "Note: If an even number is passed, the function should return \"Please provide an odd integer.\""
   ]
  },
  {
   "cell_type": "code",
   "execution_count": null,
   "metadata": {},
   "outputs": [],
   "source": [
    "side_length = int(input(\"Enter the side length of the diamond: \"))\n",
    "n = side_length\n",
    "\n",
    "if n % 2 == 0:\n",
    "    print(\"\\nPlease provide an odd integer.\")\n",
    "\n",
    "def print_diamond(n):\n",
    "    if n % 2 == 0:\n",
    "        return \"Please provide an odd integer.\"\n",
    "    \n",
    "    for i in range(n // 2 + 1):\n",
    "        print(\" \" * ((n // 2) - i) + \"*\" * (2 * i + 1))\n",
    "    for i in range(n // 2 - 1, -1, -1):\n",
    "        print(\" \" * ((n // 2) - i) + \"*\" * (2 * i + 1))\n",
    "\n",
    "print_diamond(n)"
   ]
  }
 ],
 "metadata": {
  "language_info": {
   "name": "python"
  }
 },
 "nbformat": 4,
 "nbformat_minor": 2
}
